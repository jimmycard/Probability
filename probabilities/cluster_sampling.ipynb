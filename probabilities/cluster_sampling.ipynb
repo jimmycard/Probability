{
 "cells": [
  {
   "cell_type": "code",
   "execution_count": 1,
   "id": "de691476",
   "metadata": {},
   "outputs": [
    {
     "data": {
      "text/html": [
       "<div>\n",
       "<style scoped>\n",
       "    .dataframe tbody tr th:only-of-type {\n",
       "        vertical-align: middle;\n",
       "    }\n",
       "\n",
       "    .dataframe tbody tr th {\n",
       "        vertical-align: top;\n",
       "    }\n",
       "\n",
       "    .dataframe thead th {\n",
       "        text-align: right;\n",
       "    }\n",
       "</style>\n",
       "<table border=\"1\" class=\"dataframe\">\n",
       "  <thead>\n",
       "    <tr style=\"text-align: right;\">\n",
       "      <th></th>\n",
       "      <th>tour</th>\n",
       "      <th>experience</th>\n",
       "    </tr>\n",
       "  </thead>\n",
       "  <tbody>\n",
       "    <tr>\n",
       "      <th>0</th>\n",
       "      <td>1</td>\n",
       "      <td>8.764052</td>\n",
       "    </tr>\n",
       "    <tr>\n",
       "      <th>1</th>\n",
       "      <td>1</td>\n",
       "      <td>7.400157</td>\n",
       "    </tr>\n",
       "    <tr>\n",
       "      <th>2</th>\n",
       "      <td>1</td>\n",
       "      <td>7.978738</td>\n",
       "    </tr>\n",
       "    <tr>\n",
       "      <th>3</th>\n",
       "      <td>1</td>\n",
       "      <td>9.240893</td>\n",
       "    </tr>\n",
       "    <tr>\n",
       "      <th>4</th>\n",
       "      <td>1</td>\n",
       "      <td>8.867558</td>\n",
       "    </tr>\n",
       "  </tbody>\n",
       "</table>\n",
       "</div>"
      ],
      "text/plain": [
       "   tour  experience\n",
       "0     1    8.764052\n",
       "1     1    7.400157\n",
       "2     1    7.978738\n",
       "3     1    9.240893\n",
       "4     1    8.867558"
      ]
     },
     "execution_count": 1,
     "metadata": {},
     "output_type": "execute_result"
    }
   ],
   "source": [
    "import pandas as pd\n",
    "import numpy as np\n",
    "\n",
    "#make this example reproducible\n",
    "np.random.seed(0)\n",
    "\n",
    "#create DataFrame\n",
    "df = pd.DataFrame({'tour': np.repeat(np.arange(1,11), 20),\n",
    "                   'experience': np.random.normal(loc=7, scale=1, size=200)})\n",
    "\n",
    "#view first six rows of DataFrame\n",
    "df.head()\n"
   ]
  },
  {
   "cell_type": "code",
   "execution_count": 2,
   "id": "8a2f7034",
   "metadata": {},
   "outputs": [],
   "source": [
    "#randomly choose 4 tour groups out of the 10\n",
    "clusters = np.random.choice(np.arange(1,11), size=4, replace=False)"
   ]
  },
  {
   "cell_type": "code",
   "execution_count": 3,
   "id": "f6577d6d",
   "metadata": {},
   "outputs": [
    {
     "data": {
      "text/html": [
       "<div>\n",
       "<style scoped>\n",
       "    .dataframe tbody tr th:only-of-type {\n",
       "        vertical-align: middle;\n",
       "    }\n",
       "\n",
       "    .dataframe tbody tr th {\n",
       "        vertical-align: top;\n",
       "    }\n",
       "\n",
       "    .dataframe thead th {\n",
       "        text-align: right;\n",
       "    }\n",
       "</style>\n",
       "<table border=\"1\" class=\"dataframe\">\n",
       "  <thead>\n",
       "    <tr style=\"text-align: right;\">\n",
       "      <th></th>\n",
       "      <th>tour</th>\n",
       "      <th>experience</th>\n",
       "    </tr>\n",
       "  </thead>\n",
       "  <tbody>\n",
       "    <tr>\n",
       "      <th>0</th>\n",
       "      <td>1</td>\n",
       "      <td>8.764052</td>\n",
       "    </tr>\n",
       "    <tr>\n",
       "      <th>1</th>\n",
       "      <td>1</td>\n",
       "      <td>7.400157</td>\n",
       "    </tr>\n",
       "    <tr>\n",
       "      <th>2</th>\n",
       "      <td>1</td>\n",
       "      <td>7.978738</td>\n",
       "    </tr>\n",
       "    <tr>\n",
       "      <th>3</th>\n",
       "      <td>1</td>\n",
       "      <td>9.240893</td>\n",
       "    </tr>\n",
       "    <tr>\n",
       "      <th>4</th>\n",
       "      <td>1</td>\n",
       "      <td>8.867558</td>\n",
       "    </tr>\n",
       "  </tbody>\n",
       "</table>\n",
       "</div>"
      ],
      "text/plain": [
       "   tour  experience\n",
       "0     1    8.764052\n",
       "1     1    7.400157\n",
       "2     1    7.978738\n",
       "3     1    9.240893\n",
       "4     1    8.867558"
      ]
     },
     "execution_count": 3,
     "metadata": {},
     "output_type": "execute_result"
    }
   ],
   "source": [
    "#define sample as all members who belong to one of the 4 tour groups\n",
    "cluster_sample = df[df['tour'].isin(clusters)]\n",
    "\n",
    "#view first six rows of sample\n",
    "cluster_sample.head()"
   ]
  },
  {
   "cell_type": "code",
   "execution_count": 4,
   "id": "c58f8a13",
   "metadata": {},
   "outputs": [
    {
     "data": {
      "text/plain": [
       "1     20\n",
       "6     20\n",
       "8     20\n",
       "10    20\n",
       "Name: tour, dtype: int64"
      ]
     },
     "execution_count": 4,
     "metadata": {},
     "output_type": "execute_result"
    }
   ],
   "source": [
    "#find how many observations came from each tour group\n",
    "cluster_sample['tour'].value_counts()"
   ]
  },
  {
   "cell_type": "code",
   "execution_count": 11,
   "id": "28e12938",
   "metadata": {},
   "outputs": [],
   "source": [
    "import numpy as np\n",
    "import matplotlib.pyplot as plt"
   ]
  },
  {
   "cell_type": "code",
   "execution_count": 12,
   "id": "a55d364e",
   "metadata": {},
   "outputs": [
    {
     "data": {
      "text/plain": [
       "<matplotlib.collections.PathCollection at 0x19c85821b50>"
      ]
     },
     "execution_count": 12,
     "metadata": {},
     "output_type": "execute_result"
    },
    {
     "data": {
      "image/png": "[encoded data removed]",
      "text/plain": [
       "<Figure size 432x288 with 1 Axes>"
      ]
     },
     "metadata": {
      "needs_background": "light"
     },
     "output_type": "display_data"
    }
   ],
   "source": [
    "from sklearn.datasets import make_blobs\n",
    "\n",
    "centers = [(-5, -5), (5, 5)]\n",
    "cluster_std = [0.8, 1]\n",
    "\n",
    "X, y = make_blobs(n_samples=100, cluster_std=cluster_std, centers=centers, n_features=2, random_state=1)\n",
    "\n",
    "plt.scatter(X[y == 0, 0], X[y == 0, 1], color=\"red\", s=10, label=\"Cluster1\")\n",
    "plt.scatter(X[y == 1, 0], X[y == 1, 1], color=\"blue\", s=10, label=\"Cluster2\")"
   ]
  },
  {
   "cell_type": "code",
   "execution_count": null,
   "id": "bbb213c9",
   "metadata": {},
   "outputs": [],
   "source": []
  },
  {
   "cell_type": "code",
   "execution_count": null,
   "id": "26815a05",
   "metadata": {},
   "outputs": [],
   "source": []
  },
  {
   "cell_type": "code",
   "execution_count": 13,
   "id": "2e817d59",
   "metadata": {},
   "outputs": [],
   "source": [
    "from copy import deepcopy\n",
    "import numpy as np \n",
    "import pandas as pd \n",
    "from matplotlib import pyplot as plt"
   ]
  },
  {
   "cell_type": "code",
   "execution_count": null,
   "id": "88e81bff",
   "metadata": {},
   "outputs": [],
   "source": [
    "df = pd.read_csv(\"/content/Iris.csv\") \n",
    "df.drop('Id',axis=1,inplace=True)"
   ]
  },
  {
   "cell_type": "code",
   "execution_count": null,
   "id": "a276f8d4",
   "metadata": {},
   "outputs": [],
   "source": [
    "df.head()"
   ]
  },
  {
   "cell_type": "code",
   "execution_count": null,
   "id": "ff14af78",
   "metadata": {},
   "outputs": [],
   "source": [
    "df[\"Species\"] = pd.Categorical(df[\"Species\"])\n",
    "df[\"Species\"] = df[\"Species\"].cat.codes\n",
    " \n",
    "# Changing dataframe to numpy matrix\n",
    "data = df.values[:, 0:4]\n",
    "category = df.values[:, 4]"
   ]
  },
  {
   "cell_type": "code",
   "execution_count": null,
   "id": "e5ea66da",
   "metadata": {},
   "outputs": [],
   "source": [
    "k = 3\n",
    " \n",
    "# Training data\n",
    "n = data.shape[0]\n",
    " \n",
    "# Number of features in the data\n",
    "c = data.shape[1]\n",
    " \n",
    "# Generating random centers\n",
    "mean = np.mean(data, axis = 0)\n",
    "std = np.std(data, axis = 0)\n",
    "centers = np.random.randn(k,c)*std + mean\n",
    " \n",
    "# Plotting data \n",
    "colors=['blue', 'yellow', 'green']\n",
    "for i in range(n):\n",
    "    plt.scatter(data[i, 0], data[i,1], s=7, color = colors[int(category[i])])\n",
    "plt.scatter(centers[:,0], centers[:,1], marker='.', c='r', s=150)"
   ]
  }
 ],
 "metadata": {
  "kernelspec": {
   "display_name": "Python 3 (ipykernel)",
   "language": "python",
   "name": "python3"
  },
  "language_info": {
   "codemirror_mode": {
    "name": "ipython",
    "version": 3
   },
   "file_extension": ".py",
   "mimetype": "text/x-python",
   "name": "python",
   "nbconvert_exporter": "python",
   "pygments_lexer": "ipython3",
   "version": "3.9.7"
  }
 },
 "nbformat": 4,
 "nbformat_minor": 5
}
